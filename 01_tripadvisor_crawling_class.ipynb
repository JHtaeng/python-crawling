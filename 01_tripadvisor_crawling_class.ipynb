{
 "cells": [
  {
   "cell_type": "markdown",
   "metadata": {},
   "source": [
    "# 웹 크롤링 기본\n",
    "\n",
    "* 크롤링 사이트: https://www.tripadvisor.co.kr/Restaurants-g294197-Seoul.html\n",
    "* robots.txt:  https://www.tripadvisor.co.kr/robots.txt\n",
    "\n",
    "\n",
    "### 크롤링 절차\n",
    "\n",
    "1. 사이트의 html을 읽어들이기: requests.get(url) 사용\n",
    "    \n",
    "2. 텍스트 형태의 데이터를 html 태그별로 구분하여 파싱하기 : BeutifulSoup\n",
    "\n",
    "3. 특정 태그값만 찾기 : findAll, find\n",
    "\n",
    "4. 필요한 데이터값 정제하기\n",
    "\n",
    "5. 데이터 저장하기"
   ]
  },
  {
   "cell_type": "code",
   "execution_count": 1,
   "metadata": {},
   "outputs": [],
   "source": [
    "from bs4 import BeautifulSoup\n",
    "import requests\n",
    "import pandas as pd"
   ]
  },
  {
   "cell_type": "code",
   "execution_count": 32,
   "metadata": {},
   "outputs": [],
   "source": [
    "# 크롤링할 웹 사이트 정보\n",
    "base_url = 'https://www.tripadvisor.co.kr'\n",
    "seoul_url = '/Restaurants-g294197-Seoul.html'\n",
    "\n",
    "# get html\n",
    "response = requests.get(base_url+seoul_url)\n",
    "# response.text"
   ]
  },
  {
   "cell_type": "code",
   "execution_count": 33,
   "metadata": {},
   "outputs": [],
   "source": [
    "# BeautifulSoup을 활용하여 데이터 파싱\n",
    "soup = BeautifulSoup(response.text, 'html.parser')"
   ]
  },
  {
   "cell_type": "code",
   "execution_count": 4,
   "metadata": {},
   "outputs": [],
   "source": [
    "# 맛집 목록 가져오기\n",
    "lists = soup.findAll('div', {'class' : 'wQjYiB7z'}) \n",
    "\n",
    "for item in lists:\n",
    "    tem = str(item)"
   ]
  },
  {
   "cell_type": "code",
   "execution_count": 5,
   "metadata": {
    "collapsed": true
   },
   "outputs": [
    {
     "name": "stdout",
     "output_type": "stream",
     "text": [
      "제이엘 디저트바\n",
      "1. 장생건강원\n",
      "2. 플레이버즈\n",
      "3. 구스토 타코\n",
      "4. 지화자\n",
      "5. 853\n",
      "엔그릴\n",
      "6. 헴라갓\n",
      "7. 더그리핀바\n",
      "8. 최고집 홍대점\n",
      "9. 양국\n",
      "10. 정식당\n",
      "한식공간\n",
      "11. 브라이 리퍼블릭\n",
      "12. 타볼로 24\n",
      "13. 무교동 북어국집\n",
      "14. 교촌치킨 동대문1호점\n",
      "15. 죠티인도레스토랑\n",
      "16. 광화문이층집\n",
      "17. 브루클린 더버거조인트\n",
      "18. 더 파크뷰\n",
      "19. 해도식당\n",
      "20. 유닭스토리\n",
      "21. 육전식당 - 본점\n",
      "22. 홍대 닭갈비\n",
      "23. 쟈니덤플링\n",
      "24. 연남서식당\n",
      "25. 라이너스 바베큐\n",
      "26. 브레라\n",
      "27. 모모카페 코트야드 서울 남대문\n",
      "28. 라세느\n",
      "29. 자매집\n",
      "30. 명동닭한마리 본점\n"
     ]
    }
   ],
   "source": [
    "for item in lists:\n",
    "    name = item.text\n",
    "    print(name)"
   ]
  },
  {
   "cell_type": "code",
   "execution_count": 9,
   "metadata": {
    "collapsed": true
   },
   "outputs": [
    {
     "name": "stdout",
     "output_type": "stream",
     "text": [
      "1 장생건강원\n",
      "2 플레이버즈\n",
      "3 구스토 타코\n",
      "4 지화자\n",
      "5 853\n",
      "6 헴라갓\n",
      "7 더그리핀바\n",
      "8 최고집 홍대점\n",
      "9 양국\n",
      "10 정식당\n",
      "11 브라이 리퍼블릭\n",
      "12 타볼로 24\n",
      "13 무교동 북어국집\n",
      "14 교촌치킨 동대문1호점\n",
      "15 죠티인도레스토랑\n",
      "16 광화문이층집\n",
      "17 브루클린 더버거조인트\n",
      "18 더 파크뷰\n",
      "19 해도식당\n",
      "20 유닭스토리\n",
      "21 육전식당 - 본점\n",
      "22 홍대 닭갈비\n",
      "23 쟈니덤플링\n",
      "24 연남서식당\n",
      "25 라이너스 바베큐\n",
      "26 브레라\n",
      "27 모모카페 코트야드 서울 남대문\n",
      "28 라세느\n",
      "29 자매집\n",
      "30 명동닭한마리 본점\n"
     ]
    }
   ],
   "source": [
    "for item in lists:\n",
    "    name = item.text.split('.')\n",
    "    if(len(name)==2):\n",
    "        print(name[0] + name[1])"
   ]
  },
  {
   "cell_type": "code",
   "execution_count": 10,
   "metadata": {},
   "outputs": [],
   "source": [
    "# 데이터 파싱하기\n",
    "rest_id_list = []\n",
    "rest_name_list = []\n",
    "rest_url_list = []\n",
    "\n",
    "for item in lists:\n",
    "    # 링크 가져오기\n",
    "    hrefs = item.find('a')\n",
    "    href = hrefs.get('href')\n",
    "    full_url = base_url + href\n",
    "\n",
    "    # 순위와 이름 분리하기, 광고 제거하기\n",
    "    #[1 , 장생건강원]\n",
    "    #[2,  무슨음식점]\n",
    "    #[광고음식점]\n",
    "    \n",
    "    name = item.text.split('.')\n",
    "\n",
    "    if len(name) == 2:\n",
    "        rest_id = name[0]\n",
    "        rest_name = name[1]\n",
    "        rest_url = full_url\n",
    "        #데이터 프레임을 만들기 위한 리스트\n",
    "        rest_id_list.append(rest_id)\n",
    "        rest_name_list.append(rest_name)\n",
    "        rest_url_list.append(rest_url)\n",
    "#         print('[ID]' + rest_id + ' [NAME]' + rest_name + ' [URL]' + rest_url)"
   ]
  },
  {
   "cell_type": "code",
   "execution_count": 13,
   "metadata": {
    "collapsed": true
   },
   "outputs": [
    {
     "data": {
      "text/html": [
       "<div>\n",
       "<style scoped>\n",
       "    .dataframe tbody tr th:only-of-type {\n",
       "        vertical-align: middle;\n",
       "    }\n",
       "\n",
       "    .dataframe tbody tr th {\n",
       "        vertical-align: top;\n",
       "    }\n",
       "\n",
       "    .dataframe thead th {\n",
       "        text-align: right;\n",
       "    }\n",
       "</style>\n",
       "<table border=\"1\" class=\"dataframe\">\n",
       "  <thead>\n",
       "    <tr style=\"text-align: right;\">\n",
       "      <th></th>\n",
       "      <th>[ID]</th>\n",
       "      <th>[NAME]</th>\n",
       "      <th>[URL]</th>\n",
       "    </tr>\n",
       "  </thead>\n",
       "  <tbody>\n",
       "    <tr>\n",
       "      <th>0</th>\n",
       "      <td>1</td>\n",
       "      <td>장생건강원</td>\n",
       "      <td>https://www.tripadvisor.co.kr/Restaurant_Revie...</td>\n",
       "    </tr>\n",
       "    <tr>\n",
       "      <th>1</th>\n",
       "      <td>2</td>\n",
       "      <td>플레이버즈</td>\n",
       "      <td>https://www.tripadvisor.co.kr/Restaurant_Revie...</td>\n",
       "    </tr>\n",
       "    <tr>\n",
       "      <th>2</th>\n",
       "      <td>3</td>\n",
       "      <td>구스토 타코</td>\n",
       "      <td>https://www.tripadvisor.co.kr/Restaurant_Revie...</td>\n",
       "    </tr>\n",
       "    <tr>\n",
       "      <th>3</th>\n",
       "      <td>4</td>\n",
       "      <td>지화자</td>\n",
       "      <td>https://www.tripadvisor.co.kr/Restaurant_Revie...</td>\n",
       "    </tr>\n",
       "    <tr>\n",
       "      <th>4</th>\n",
       "      <td>5</td>\n",
       "      <td>853</td>\n",
       "      <td>https://www.tripadvisor.co.kr/Restaurant_Revie...</td>\n",
       "    </tr>\n",
       "    <tr>\n",
       "      <th>5</th>\n",
       "      <td>6</td>\n",
       "      <td>헴라갓</td>\n",
       "      <td>https://www.tripadvisor.co.kr/Restaurant_Revie...</td>\n",
       "    </tr>\n",
       "    <tr>\n",
       "      <th>6</th>\n",
       "      <td>7</td>\n",
       "      <td>더그리핀바</td>\n",
       "      <td>https://www.tripadvisor.co.kr/Restaurant_Revie...</td>\n",
       "    </tr>\n",
       "    <tr>\n",
       "      <th>7</th>\n",
       "      <td>8</td>\n",
       "      <td>최고집 홍대점</td>\n",
       "      <td>https://www.tripadvisor.co.kr/Restaurant_Revie...</td>\n",
       "    </tr>\n",
       "    <tr>\n",
       "      <th>8</th>\n",
       "      <td>9</td>\n",
       "      <td>양국</td>\n",
       "      <td>https://www.tripadvisor.co.kr/Restaurant_Revie...</td>\n",
       "    </tr>\n",
       "    <tr>\n",
       "      <th>9</th>\n",
       "      <td>10</td>\n",
       "      <td>정식당</td>\n",
       "      <td>https://www.tripadvisor.co.kr/Restaurant_Revie...</td>\n",
       "    </tr>\n",
       "    <tr>\n",
       "      <th>10</th>\n",
       "      <td>11</td>\n",
       "      <td>브라이 리퍼블릭</td>\n",
       "      <td>https://www.tripadvisor.co.kr/Restaurant_Revie...</td>\n",
       "    </tr>\n",
       "    <tr>\n",
       "      <th>11</th>\n",
       "      <td>12</td>\n",
       "      <td>타볼로 24</td>\n",
       "      <td>https://www.tripadvisor.co.kr/Restaurant_Revie...</td>\n",
       "    </tr>\n",
       "    <tr>\n",
       "      <th>12</th>\n",
       "      <td>13</td>\n",
       "      <td>무교동 북어국집</td>\n",
       "      <td>https://www.tripadvisor.co.kr/Restaurant_Revie...</td>\n",
       "    </tr>\n",
       "    <tr>\n",
       "      <th>13</th>\n",
       "      <td>14</td>\n",
       "      <td>교촌치킨 동대문1호점</td>\n",
       "      <td>https://www.tripadvisor.co.kr/Restaurant_Revie...</td>\n",
       "    </tr>\n",
       "    <tr>\n",
       "      <th>14</th>\n",
       "      <td>15</td>\n",
       "      <td>죠티인도레스토랑</td>\n",
       "      <td>https://www.tripadvisor.co.kr/Restaurant_Revie...</td>\n",
       "    </tr>\n",
       "    <tr>\n",
       "      <th>15</th>\n",
       "      <td>16</td>\n",
       "      <td>광화문이층집</td>\n",
       "      <td>https://www.tripadvisor.co.kr/Restaurant_Revie...</td>\n",
       "    </tr>\n",
       "    <tr>\n",
       "      <th>16</th>\n",
       "      <td>17</td>\n",
       "      <td>브루클린 더버거조인트</td>\n",
       "      <td>https://www.tripadvisor.co.kr/Restaurant_Revie...</td>\n",
       "    </tr>\n",
       "    <tr>\n",
       "      <th>17</th>\n",
       "      <td>18</td>\n",
       "      <td>더 파크뷰</td>\n",
       "      <td>https://www.tripadvisor.co.kr/Restaurant_Revie...</td>\n",
       "    </tr>\n",
       "    <tr>\n",
       "      <th>18</th>\n",
       "      <td>19</td>\n",
       "      <td>해도식당</td>\n",
       "      <td>https://www.tripadvisor.co.kr/Restaurant_Revie...</td>\n",
       "    </tr>\n",
       "    <tr>\n",
       "      <th>19</th>\n",
       "      <td>20</td>\n",
       "      <td>유닭스토리</td>\n",
       "      <td>https://www.tripadvisor.co.kr/Restaurant_Revie...</td>\n",
       "    </tr>\n",
       "    <tr>\n",
       "      <th>20</th>\n",
       "      <td>21</td>\n",
       "      <td>육전식당 - 본점</td>\n",
       "      <td>https://www.tripadvisor.co.kr/Restaurant_Revie...</td>\n",
       "    </tr>\n",
       "    <tr>\n",
       "      <th>21</th>\n",
       "      <td>22</td>\n",
       "      <td>홍대 닭갈비</td>\n",
       "      <td>https://www.tripadvisor.co.kr/Restaurant_Revie...</td>\n",
       "    </tr>\n",
       "    <tr>\n",
       "      <th>22</th>\n",
       "      <td>23</td>\n",
       "      <td>쟈니덤플링</td>\n",
       "      <td>https://www.tripadvisor.co.kr/Restaurant_Revie...</td>\n",
       "    </tr>\n",
       "    <tr>\n",
       "      <th>23</th>\n",
       "      <td>24</td>\n",
       "      <td>연남서식당</td>\n",
       "      <td>https://www.tripadvisor.co.kr/Restaurant_Revie...</td>\n",
       "    </tr>\n",
       "    <tr>\n",
       "      <th>24</th>\n",
       "      <td>25</td>\n",
       "      <td>라이너스 바베큐</td>\n",
       "      <td>https://www.tripadvisor.co.kr/Restaurant_Revie...</td>\n",
       "    </tr>\n",
       "    <tr>\n",
       "      <th>25</th>\n",
       "      <td>26</td>\n",
       "      <td>브레라</td>\n",
       "      <td>https://www.tripadvisor.co.kr/Restaurant_Revie...</td>\n",
       "    </tr>\n",
       "    <tr>\n",
       "      <th>26</th>\n",
       "      <td>27</td>\n",
       "      <td>모모카페 코트야드 서울 남대문</td>\n",
       "      <td>https://www.tripadvisor.co.kr/Restaurant_Revie...</td>\n",
       "    </tr>\n",
       "    <tr>\n",
       "      <th>27</th>\n",
       "      <td>28</td>\n",
       "      <td>라세느</td>\n",
       "      <td>https://www.tripadvisor.co.kr/Restaurant_Revie...</td>\n",
       "    </tr>\n",
       "    <tr>\n",
       "      <th>28</th>\n",
       "      <td>29</td>\n",
       "      <td>자매집</td>\n",
       "      <td>https://www.tripadvisor.co.kr/Restaurant_Revie...</td>\n",
       "    </tr>\n",
       "    <tr>\n",
       "      <th>29</th>\n",
       "      <td>30</td>\n",
       "      <td>명동닭한마리 본점</td>\n",
       "      <td>https://www.tripadvisor.co.kr/Restaurant_Revie...</td>\n",
       "    </tr>\n",
       "  </tbody>\n",
       "</table>\n",
       "</div>"
      ],
      "text/plain": [
       "   [ID]             [NAME]                                              [URL]\n",
       "0     1              장생건강원  https://www.tripadvisor.co.kr/Restaurant_Revie...\n",
       "1     2              플레이버즈  https://www.tripadvisor.co.kr/Restaurant_Revie...\n",
       "2     3             구스토 타코  https://www.tripadvisor.co.kr/Restaurant_Revie...\n",
       "3     4                지화자  https://www.tripadvisor.co.kr/Restaurant_Revie...\n",
       "4     5                853  https://www.tripadvisor.co.kr/Restaurant_Revie...\n",
       "5     6                헴라갓  https://www.tripadvisor.co.kr/Restaurant_Revie...\n",
       "6     7              더그리핀바  https://www.tripadvisor.co.kr/Restaurant_Revie...\n",
       "7     8            최고집 홍대점  https://www.tripadvisor.co.kr/Restaurant_Revie...\n",
       "8     9                 양국  https://www.tripadvisor.co.kr/Restaurant_Revie...\n",
       "9    10                정식당  https://www.tripadvisor.co.kr/Restaurant_Revie...\n",
       "10   11           브라이 리퍼블릭  https://www.tripadvisor.co.kr/Restaurant_Revie...\n",
       "11   12             타볼로 24  https://www.tripadvisor.co.kr/Restaurant_Revie...\n",
       "12   13           무교동 북어국집  https://www.tripadvisor.co.kr/Restaurant_Revie...\n",
       "13   14        교촌치킨 동대문1호점  https://www.tripadvisor.co.kr/Restaurant_Revie...\n",
       "14   15           죠티인도레스토랑  https://www.tripadvisor.co.kr/Restaurant_Revie...\n",
       "15   16             광화문이층집  https://www.tripadvisor.co.kr/Restaurant_Revie...\n",
       "16   17        브루클린 더버거조인트  https://www.tripadvisor.co.kr/Restaurant_Revie...\n",
       "17   18              더 파크뷰  https://www.tripadvisor.co.kr/Restaurant_Revie...\n",
       "18   19               해도식당  https://www.tripadvisor.co.kr/Restaurant_Revie...\n",
       "19   20              유닭스토리  https://www.tripadvisor.co.kr/Restaurant_Revie...\n",
       "20   21          육전식당 - 본점  https://www.tripadvisor.co.kr/Restaurant_Revie...\n",
       "21   22             홍대 닭갈비  https://www.tripadvisor.co.kr/Restaurant_Revie...\n",
       "22   23              쟈니덤플링  https://www.tripadvisor.co.kr/Restaurant_Revie...\n",
       "23   24              연남서식당  https://www.tripadvisor.co.kr/Restaurant_Revie...\n",
       "24   25           라이너스 바베큐  https://www.tripadvisor.co.kr/Restaurant_Revie...\n",
       "25   26                브레라  https://www.tripadvisor.co.kr/Restaurant_Revie...\n",
       "26   27   모모카페 코트야드 서울 남대문  https://www.tripadvisor.co.kr/Restaurant_Revie...\n",
       "27   28                라세느  https://www.tripadvisor.co.kr/Restaurant_Revie...\n",
       "28   29                자매집  https://www.tripadvisor.co.kr/Restaurant_Revie...\n",
       "29   30          명동닭한마리 본점  https://www.tripadvisor.co.kr/Restaurant_Revie..."
      ]
     },
     "execution_count": 13,
     "metadata": {},
     "output_type": "execute_result"
    }
   ],
   "source": [
    "result = pd.DataFrame(data={'[ID]' : rest_id_list, '[NAME]' : rest_name_list, '[URL]' : rest_url_list})\n",
    "result"
   ]
  },
  {
   "cell_type": "code",
   "execution_count": null,
   "metadata": {},
   "outputs": [],
   "source": [
    "# (실습1) 추천글"
   ]
  },
  {
   "cell_type": "code",
   "execution_count": null,
   "metadata": {},
   "outputs": [],
   "source": [
    "# (실습2) 크롤링할 웹 사이트 정보\n",
    "# 'https://www.tripadvisor.co.kr/Attractions-g294197-Activities-c26-t142-Seoul.html#ATTRACTION_SORT_WRAPPER'\n",
    "\n",
    "# 서울소재 벼룩시장 정보 가져오기"
   ]
  },
  {
   "cell_type": "code",
   "execution_count": 19,
   "metadata": {},
   "outputs": [],
   "source": [
    "base_url = 'https://www.tripadvisor.co.kr'\n",
    "att_url = '/Attractions-g294197-Activities-c26-t142-Seoul.html'\n",
    "\n",
    "# get html\n",
    "response = requests.get(base_url+att_url)"
   ]
  },
  {
   "cell_type": "code",
   "execution_count": 20,
   "metadata": {},
   "outputs": [],
   "source": [
    "soup = BeautifulSoup(response.text, 'html.parser')"
   ]
  },
  {
   "cell_type": "code",
   "execution_count": 26,
   "metadata": {},
   "outputs": [],
   "source": [
    "lists = soup.findAll('div', {'class' : '_6sUF3jUd'}) "
   ]
  },
  {
   "cell_type": "code",
   "execution_count": 27,
   "metadata": {
    "collapsed": true
   },
   "outputs": [
    {
     "data": {
      "text/plain": [
       "[<div class=\"_6sUF3jUd\"><a class=\"_1QKQOve4\" href=\"/Attraction_Review-g294197-d7154750-Reviews-Hongdae_Art_Market_Free_Market-Seoul.html\" target=\"_blank\"><h2>홍대앞 예술시장 프리마켓</h2></a><a href=\"/Attraction_Review-g294197-d7154750-Reviews-Hongdae_Art_Market_Free_Market-Seoul.html#REVIEWS\" target=\"_blank\"><span class=\"_3sNfOSUO\"><div class=\"tl4jgn9w _274P7u9u\" style=\"font-size:14px;line-height:1.29\"><span class=\"_1jcHBWVU _1RZqMyqR uq1qMUbD\"></span><span class=\"_82HNRypW\" style=\"font-size:14px\">196<!-- -->건의 리뷰</span></div></span></a><div class=\"_2jOg7aGD\">4위(서울에 있는 535곳 쇼핑 중)</div><div><div class=\"_3Qb-FY2O\"><div class=\"_3XWoDb5N\"></div><div class=\"_3VQ9cJNZ\"></div></div><a class=\"_2OD1jgdZ\" href=\"/Attraction_Review-g294197-d7154750-Reviews-Hongdae_Art_Market_Free_Market-Seoul.html\" target=\"_blank\">더 알아보기</a></div></div>,\n",
       " <div class=\"_6sUF3jUd\"><a class=\"_1QKQOve4\" href=\"/Attraction_Review-g294197-d1552278-Reviews-Kwangjang_Market-Seoul.html\" target=\"_blank\"><h2>광장시장</h2></a><a href=\"/Attraction_Review-g294197-d1552278-Reviews-Kwangjang_Market-Seoul.html#REVIEWS\" target=\"_blank\"><span class=\"_3sNfOSUO\"><div class=\"tl4jgn9w _274P7u9u\" style=\"font-size:14px;line-height:1.29\"><span class=\"_1jcHBWVU _1-HtLqs3 uq1qMUbD\"></span><span class=\"_82HNRypW\" style=\"font-size:14px\">2,304<!-- -->건의 리뷰</span></div></span></a><div class=\"_2jOg7aGD\">5위(서울에 있는 535곳 쇼핑 중)</div><div><div class=\"_3Qb-FY2O\"><div class=\"_3XWoDb5N\"></div><div class=\"_3VQ9cJNZ\"></div></div><a class=\"_2OD1jgdZ\" href=\"/Attraction_Review-g294197-d1552278-Reviews-Kwangjang_Market-Seoul.html\" target=\"_blank\">더 알아보기</a></div></div>,\n",
       " <div class=\"_6sUF3jUd\"><a class=\"_1QKQOve4\" href=\"/Attraction_Review-g294197-d1956582-Reviews-Majang_Meat_Market-Seoul.html\" target=\"_blank\"><h2>마장 축산물시장</h2></a><a href=\"/Attraction_Review-g294197-d1956582-Reviews-Majang_Meat_Market-Seoul.html#REVIEWS\" target=\"_blank\"><span class=\"_3sNfOSUO\"><div class=\"tl4jgn9w _274P7u9u\" style=\"font-size:14px;line-height:1.29\"><span class=\"_1jcHBWVU _1RZqMyqR uq1qMUbD\"></span><span class=\"_82HNRypW\" style=\"font-size:14px\">99<!-- -->건의 리뷰</span></div></span></a><div class=\"_2jOg7aGD\">13위(서울에 있는 535곳 쇼핑 중)</div><div><div class=\"_3Qb-FY2O\"><div class=\"_3XWoDb5N\"></div><div class=\"_3VQ9cJNZ\"></div></div><a class=\"_2OD1jgdZ\" href=\"/Attraction_Review-g294197-d1956582-Reviews-Majang_Meat_Market-Seoul.html\" target=\"_blank\">더 알아보기</a></div></div>,\n",
       " <div class=\"_6sUF3jUd\"><a class=\"_1QKQOve4\" href=\"/Attraction_Review-g294197-d324907-Reviews-Namdaemun_Market-Seoul.html\" target=\"_blank\"><h2>남대문시장</h2></a><a href=\"/Attraction_Review-g294197-d324907-Reviews-Namdaemun_Market-Seoul.html#REVIEWS\" target=\"_blank\"><span class=\"_3sNfOSUO\"><div class=\"tl4jgn9w _274P7u9u\" style=\"font-size:14px;line-height:1.29\"><span class=\"_1jcHBWVU _1-HtLqs3 uq1qMUbD\"></span><span class=\"_82HNRypW\" style=\"font-size:14px\">2,895<!-- -->건의 리뷰</span></div></span></a><div class=\"_2jOg7aGD\">14위(서울에 있는 535곳 쇼핑 중)</div><div><div class=\"_3Qb-FY2O\"><div class=\"_3XWoDb5N\"></div><div class=\"_3VQ9cJNZ\"></div></div><a class=\"_2OD1jgdZ\" href=\"/Attraction_Review-g294197-d324907-Reviews-Namdaemun_Market-Seoul.html\" target=\"_blank\">더 알아보기</a></div></div>,\n",
       " <div class=\"_6sUF3jUd\"><a class=\"_1QKQOve4\" href=\"/Attraction_Review-g294197-d1766551-Reviews-Ssamzigil-Seoul.html\" target=\"_blank\"><h2>쌈지길</h2></a><a href=\"/Attraction_Review-g294197-d1766551-Reviews-Ssamzigil-Seoul.html#REVIEWS\" target=\"_blank\"><span class=\"_3sNfOSUO\"><div class=\"tl4jgn9w _274P7u9u\" style=\"font-size:14px;line-height:1.29\"><span class=\"_1jcHBWVU _1-HtLqs3 uq1qMUbD\"></span><span class=\"_82HNRypW\" style=\"font-size:14px\">461<!-- -->건의 리뷰</span></div></span></a><div class=\"_2jOg7aGD\">15위(서울에 있는 535곳 쇼핑 중)</div><div><div class=\"_3Qb-FY2O\"><div class=\"_3XWoDb5N\"></div><div class=\"_3VQ9cJNZ\"></div></div><a class=\"_2OD1jgdZ\" href=\"/Attraction_Review-g294197-d1766551-Reviews-Ssamzigil-Seoul.html\" target=\"_blank\">더 알아보기</a></div></div>,\n",
       " <div class=\"_6sUF3jUd\"><a class=\"_1QKQOve4\" href=\"/Attraction_Review-g294197-d1163226-Reviews-Jungbu_Market-Seoul.html\" target=\"_blank\"><h2>중부시장</h2></a><a href=\"/Attraction_Review-g294197-d1163226-Reviews-Jungbu_Market-Seoul.html#REVIEWS\" target=\"_blank\"><span class=\"_3sNfOSUO\"><div class=\"tl4jgn9w _274P7u9u\" style=\"font-size:14px;line-height:1.29\"><span class=\"_1jcHBWVU _1-HtLqs3 uq1qMUbD\"></span><span class=\"_82HNRypW\" style=\"font-size:14px\">114<!-- -->건의 리뷰</span></div></span></a><div class=\"_2jOg7aGD\">17위(서울에 있는 535곳 쇼핑 중)</div><div><div class=\"_3Qb-FY2O\"><div class=\"_3XWoDb5N\"></div><div class=\"_3VQ9cJNZ\"></div></div><a class=\"_2OD1jgdZ\" href=\"/Attraction_Review-g294197-d1163226-Reviews-Jungbu_Market-Seoul.html\" target=\"_blank\">더 알아보기</a></div></div>,\n",
       " <div class=\"_6sUF3jUd\"><a class=\"_1QKQOve4\" href=\"/Attraction_Review-g294197-d1537022-Reviews-Dongdaemun_Market-Seoul.html\" target=\"_blank\"><h2>동대문 시장</h2></a><a href=\"/Attraction_Review-g294197-d1537022-Reviews-Dongdaemun_Market-Seoul.html#REVIEWS\" target=\"_blank\"><span class=\"_3sNfOSUO\"><div class=\"tl4jgn9w _274P7u9u\" style=\"font-size:14px;line-height:1.29\"><span class=\"_1jcHBWVU _1-HtLqs3 uq1qMUbD\"></span><span class=\"_82HNRypW\" style=\"font-size:14px\">335<!-- -->건의 리뷰</span></div></span></a><div class=\"_2jOg7aGD\">21위(서울에 있는 535곳 쇼핑 중)</div><div><div class=\"_3Qb-FY2O\"><div class=\"_3XWoDb5N\"></div><div class=\"_3VQ9cJNZ\"></div></div><a class=\"_2OD1jgdZ\" href=\"/Attraction_Review-g294197-d1537022-Reviews-Dongdaemun_Market-Seoul.html\" target=\"_blank\">더 알아보기</a></div></div>,\n",
       " <div class=\"_6sUF3jUd\"><a class=\"_1QKQOve4\" href=\"/Attraction_Review-g294197-d7376481-Reviews-Noryangjin_Fisheries_Wholesale_Market-Seoul.html\" target=\"_blank\"><h2>노량진 수산물 도매시장</h2></a><a href=\"/Attraction_Review-g294197-d7376481-Reviews-Noryangjin_Fisheries_Wholesale_Market-Seoul.html#REVIEWS\" target=\"_blank\"><span class=\"_3sNfOSUO\"><div class=\"tl4jgn9w _274P7u9u\" style=\"font-size:14px;line-height:1.29\"><span class=\"_1jcHBWVU _1-HtLqs3 uq1qMUbD\"></span><span class=\"_82HNRypW\" style=\"font-size:14px\">894<!-- -->건의 리뷰</span></div></span></a><div class=\"_2jOg7aGD\">23위(서울에 있는 535곳 쇼핑 중)</div><div><div class=\"_3Qb-FY2O\"><div class=\"_3XWoDb5N\"></div><div class=\"_3VQ9cJNZ\"></div></div><a class=\"_2OD1jgdZ\" href=\"/Attraction_Review-g294197-d7376481-Reviews-Noryangjin_Fisheries_Wholesale_Market-Seoul.html\" target=\"_blank\">더 알아보기</a></div></div>,\n",
       " <div class=\"_6sUF3jUd\"><a class=\"_1QKQOve4\" href=\"/Attraction_Review-g294197-d13319724-Reviews-Mangwon_Market-Seoul.html\" target=\"_blank\"><h2>망원시장</h2></a><a href=\"/Attraction_Review-g294197-d13319724-Reviews-Mangwon_Market-Seoul.html#REVIEWS\" target=\"_blank\"><span class=\"_3sNfOSUO\"><div class=\"tl4jgn9w _274P7u9u\" style=\"font-size:14px;line-height:1.29\"><span class=\"_1jcHBWVU _1-HtLqs3 uq1qMUbD\"></span><span class=\"_82HNRypW\" style=\"font-size:14px\">36<!-- -->건의 리뷰</span></div></span></a><div class=\"_2jOg7aGD\">43위(서울에 있는 535곳 쇼핑 중)</div><div><div class=\"_3Qb-FY2O\"><div class=\"_3XWoDb5N\"></div><div class=\"_3VQ9cJNZ\"></div></div><a class=\"_2OD1jgdZ\" href=\"/Attraction_Review-g294197-d13319724-Reviews-Mangwon_Market-Seoul.html\" target=\"_blank\">더 알아보기</a></div></div>,\n",
       " <div class=\"_6sUF3jUd\"><a class=\"_1QKQOve4\" href=\"/Attraction_Review-g294197-d7891956-Reviews-Garak_Market-Seoul.html\" target=\"_blank\"><h2>가락시장</h2></a><a href=\"/Attraction_Review-g294197-d7891956-Reviews-Garak_Market-Seoul.html#REVIEWS\" target=\"_blank\"><span class=\"_3sNfOSUO\"><div class=\"tl4jgn9w _274P7u9u\" style=\"font-size:14px;line-height:1.29\"><span class=\"_1jcHBWVU _1-HtLqs3 uq1qMUbD\"></span><span class=\"_82HNRypW\" style=\"font-size:14px\">42<!-- -->건의 리뷰</span></div></span></a><div class=\"_2jOg7aGD\">48위(서울에 있는 535곳 쇼핑 중)</div><div><div class=\"_3Qb-FY2O\"><div class=\"_3XWoDb5N\"></div><div class=\"_3VQ9cJNZ\"></div></div><a class=\"_2OD1jgdZ\" href=\"/Attraction_Review-g294197-d7891956-Reviews-Garak_Market-Seoul.html\" target=\"_blank\">더 알아보기</a></div></div>,\n",
       " <div class=\"_6sUF3jUd\"><a class=\"_1QKQOve4\" href=\"/Attraction_Review-g294197-d19243838-Reviews-Jongno_Sinjin_Market-Seoul.html\" target=\"_blank\"><h2>종로신진시장</h2></a><a href=\"/Attraction_Review-g294197-d19243838-Reviews-Jongno_Sinjin_Market-Seoul.html#REVIEWS\" target=\"_blank\"><span class=\"_3sNfOSUO\"><div class=\"tl4jgn9w _274P7u9u\" style=\"font-size:14px;line-height:1.29\"><span class=\"_1jcHBWVU _1-HtLqs3 uq1qMUbD\"></span><span class=\"_82HNRypW\" style=\"font-size:14px\">2<!-- -->건의 리뷰</span></div></span></a><div class=\"_2jOg7aGD\">55위(서울에 있는 535곳 쇼핑 중)</div><div><div class=\"_3Qb-FY2O\"><div class=\"_3XWoDb5N\"></div><div class=\"_3VQ9cJNZ\"></div></div><a class=\"_2OD1jgdZ\" href=\"/Attraction_Review-g294197-d19243838-Reviews-Jongno_Sinjin_Market-Seoul.html\" target=\"_blank\">더 알아보기</a></div></div>,\n",
       " <div class=\"_6sUF3jUd\"><a class=\"_1QKQOve4\" href=\"/Attraction_Review-g294197-d20717941-Reviews-Dunchon_Market-Seoul.html\" target=\"_blank\"><h2>둔촌역 전통시장</h2></a><a href=\"/Attraction_Review-g294197-d20717941-Reviews-Dunchon_Market-Seoul.html#REVIEWS\" target=\"_blank\"><span class=\"_3sNfOSUO\"><div class=\"tl4jgn9w _274P7u9u\" style=\"font-size:14px;line-height:1.29\"><span class=\"_1jcHBWVU _1-HtLqs3 uq1qMUbD\"></span><span class=\"_82HNRypW\" style=\"font-size:14px\">1<!-- -->건의 리뷰</span></div></span></a><div class=\"_2jOg7aGD\">67위(서울에 있는 535곳 쇼핑 중)</div><div><div class=\"_3Qb-FY2O\"><div class=\"_3XWoDb5N\"></div><div class=\"_3VQ9cJNZ\"></div></div><a class=\"_2OD1jgdZ\" href=\"/Attraction_Review-g294197-d20717941-Reviews-Dunchon_Market-Seoul.html\" target=\"_blank\">더 알아보기</a></div></div>,\n",
       " <div class=\"_6sUF3jUd\"><a class=\"_1QKQOve4\" href=\"/Attraction_Review-g294197-d20324295-Reviews-Jangmi_Jeil_Sijang-Seoul.html\" target=\"_blank\"><h2>장미제일시장</h2></a><a href=\"/Attraction_Review-g294197-d20324295-Reviews-Jangmi_Jeil_Sijang-Seoul.html#REVIEWS\" target=\"_blank\"><span class=\"_3sNfOSUO\"><div class=\"tl4jgn9w _274P7u9u\" style=\"font-size:14px;line-height:1.29\"><span class=\"_1jcHBWVU _1-HtLqs3 uq1qMUbD\"></span><span class=\"_82HNRypW\" style=\"font-size:14px\">1<!-- -->건의 리뷰</span></div></span></a><div class=\"_2jOg7aGD\">68위(서울에 있는 535곳 쇼핑 중)</div><div><div class=\"_3Qb-FY2O\"><div class=\"_3XWoDb5N\"></div><div class=\"_3VQ9cJNZ\"></div></div><a class=\"_2OD1jgdZ\" href=\"/Attraction_Review-g294197-d20324295-Reviews-Jangmi_Jeil_Sijang-Seoul.html\" target=\"_blank\">더 알아보기</a></div></div>,\n",
       " <div class=\"_6sUF3jUd\"><a class=\"_1QKQOve4\" href=\"/Attraction_Review-g294197-d18970042-Reviews-Amsa_Complex_Market-Seoul.html\" target=\"_blank\"><h2>암사종합시장</h2></a><a href=\"/Attraction_Review-g294197-d18970042-Reviews-Amsa_Complex_Market-Seoul.html#REVIEWS\" target=\"_blank\"><span class=\"_3sNfOSUO\"><div class=\"tl4jgn9w _274P7u9u\" style=\"font-size:14px;line-height:1.29\"><span class=\"_1jcHBWVU _1-HtLqs3 uq1qMUbD\"></span><span class=\"_82HNRypW\" style=\"font-size:14px\">1<!-- -->건의 리뷰</span></div></span></a><div class=\"_2jOg7aGD\">69위(서울에 있는 535곳 쇼핑 중)</div><div><div class=\"_3Qb-FY2O\"><div class=\"_3XWoDb5N\"></div><div class=\"_3VQ9cJNZ\"></div></div><a class=\"_2OD1jgdZ\" href=\"/Attraction_Review-g294197-d18970042-Reviews-Amsa_Complex_Market-Seoul.html\" target=\"_blank\">더 알아보기</a></div></div>,\n",
       " <div class=\"_6sUF3jUd\"><a class=\"_1QKQOve4\" href=\"/Attraction_Review-g294197-d20283457-Reviews-Yongdap_Puleumileu_Sangga_Sijang-Seoul.html\" target=\"_blank\"><h2>용답 푸르미르 상가시장</h2></a><a href=\"/Attraction_Review-g294197-d20283457-Reviews-Yongdap_Puleumileu_Sangga_Sijang-Seoul.html#REVIEWS\" target=\"_blank\"><span class=\"_3sNfOSUO\"><div class=\"tl4jgn9w _274P7u9u\" style=\"font-size:14px;line-height:1.29\"><span class=\"_1jcHBWVU _1-HtLqs3 uq1qMUbD\"></span><span class=\"_82HNRypW\" style=\"font-size:14px\">1<!-- -->건의 리뷰</span></div></span></a><div class=\"_2jOg7aGD\">70위(서울에 있는 535곳 쇼핑 중)</div><div><div class=\"_3Qb-FY2O\"><div class=\"_3XWoDb5N\"></div><div class=\"_3VQ9cJNZ\"></div></div><a class=\"_2OD1jgdZ\" href=\"/Attraction_Review-g294197-d20283457-Reviews-Yongdap_Puleumileu_Sangga_Sijang-Seoul.html\" target=\"_blank\">더 알아보기</a></div></div>,\n",
       " <div class=\"_6sUF3jUd\"><a class=\"_1QKQOve4\" href=\"/Attraction_Review-g294197-d19254790-Reviews-Yeongdong_Traditional_Market-Seoul.html\" target=\"_blank\"><h2>영동전통시장</h2></a><a href=\"/Attraction_Review-g294197-d19254790-Reviews-Yeongdong_Traditional_Market-Seoul.html#REVIEWS\" target=\"_blank\"><span class=\"_3sNfOSUO\"><div class=\"tl4jgn9w _274P7u9u\" style=\"font-size:14px;line-height:1.29\"><span class=\"_1jcHBWVU _1-HtLqs3 uq1qMUbD\"></span><span class=\"_82HNRypW\" style=\"font-size:14px\">1<!-- -->건의 리뷰</span></div></span></a><div class=\"_2jOg7aGD\">71위(서울에 있는 535곳 쇼핑 중)</div><div><div class=\"_3Qb-FY2O\"><div class=\"_3XWoDb5N\"></div><div class=\"_3VQ9cJNZ\"></div></div><a class=\"_2OD1jgdZ\" href=\"/Attraction_Review-g294197-d19254790-Reviews-Yeongdong_Traditional_Market-Seoul.html\" target=\"_blank\">더 알아보기</a></div></div>,\n",
       " <div class=\"_6sUF3jUd\"><a class=\"_1QKQOve4\" href=\"/Attraction_Review-g294197-d20324285-Reviews-Seoul_Central_Market-Seoul.html\" target=\"_blank\"><h2>서울중앙시장</h2></a><a href=\"/Attraction_Review-g294197-d20324285-Reviews-Seoul_Central_Market-Seoul.html#REVIEWS\" target=\"_blank\"><span class=\"_3sNfOSUO\"><div class=\"tl4jgn9w _274P7u9u\" style=\"font-size:14px;line-height:1.29\"><span class=\"_1jcHBWVU _3RqovlMp uq1qMUbD\"></span><span class=\"_82HNRypW\" style=\"font-size:14px\">1<!-- -->건의 리뷰</span></div></span></a><div class=\"_2jOg7aGD\">78위(서울에 있는 535곳 쇼핑 중)</div><div><div class=\"_3Qb-FY2O\"><div class=\"_3XWoDb5N\"></div><div class=\"_3VQ9cJNZ\"></div></div><a class=\"_2OD1jgdZ\" href=\"/Attraction_Review-g294197-d20324285-Reviews-Seoul_Central_Market-Seoul.html\" target=\"_blank\">더 알아보기</a></div></div>,\n",
       " <div class=\"_6sUF3jUd\"><a class=\"_1QKQOve4\" href=\"/Attraction_Review-g294197-d7154928-Reviews-Dongmyo_Flea_Market-Seoul.html\" target=\"_blank\"><h2>동묘벼룩시장</h2></a><a href=\"/Attraction_Review-g294197-d7154928-Reviews-Dongmyo_Flea_Market-Seoul.html#REVIEWS\" target=\"_blank\"><span class=\"_3sNfOSUO\"><div class=\"tl4jgn9w _274P7u9u\" style=\"font-size:14px;line-height:1.29\"><span class=\"_1jcHBWVU _1-HtLqs3 uq1qMUbD\"></span><span class=\"_82HNRypW\" style=\"font-size:14px\">21<!-- -->건의 리뷰</span></div></span></a><div class=\"_2jOg7aGD\">91위(서울에 있는 535곳 쇼핑 중)</div><div><div class=\"_3Qb-FY2O\"><div class=\"_3XWoDb5N\"></div><div class=\"_3VQ9cJNZ\"></div></div><a class=\"_2OD1jgdZ\" href=\"/Attraction_Review-g294197-d7154928-Reviews-Dongmyo_Flea_Market-Seoul.html\" target=\"_blank\">더 알아보기</a></div></div>,\n",
       " <div class=\"_6sUF3jUd\"><a class=\"_1QKQOve4\" href=\"/Attraction_Review-g294197-d2367771-Reviews-Seoul_Folk_Flea_Market-Seoul.html\" target=\"_blank\"><h2>서울풍물시장</h2></a><a href=\"/Attraction_Review-g294197-d2367771-Reviews-Seoul_Folk_Flea_Market-Seoul.html#REVIEWS\" target=\"_blank\"><span class=\"_3sNfOSUO\"><div class=\"tl4jgn9w _274P7u9u\" style=\"font-size:14px;line-height:1.29\"><span class=\"_1jcHBWVU _2n4wJlqY uq1qMUbD\"></span><span class=\"_82HNRypW\" style=\"font-size:14px\">56<!-- -->건의 리뷰</span></div></span></a><div class=\"_2jOg7aGD\">101위(서울에 있는 535곳 쇼핑 중)</div><div><div class=\"_3Qb-FY2O\"><div class=\"_3XWoDb5N\"></div><div class=\"_3VQ9cJNZ\"></div></div><a class=\"_2OD1jgdZ\" href=\"/Attraction_Review-g294197-d2367771-Reviews-Seoul_Folk_Flea_Market-Seoul.html\" target=\"_blank\">더 알아보기</a></div></div>,\n",
       " <div class=\"_6sUF3jUd\"><a class=\"_1QKQOve4\" href=\"/Attraction_Review-g294197-d3694651-Reviews-Yeongdeungpo_Market-Seoul.html\" target=\"_blank\"><h2>영등포중앙시장</h2></a><a href=\"/Attraction_Review-g294197-d3694651-Reviews-Yeongdeungpo_Market-Seoul.html#REVIEWS\" target=\"_blank\"><span class=\"_3sNfOSUO\"><div class=\"tl4jgn9w _274P7u9u\" style=\"font-size:14px;line-height:1.29\"><span class=\"_1jcHBWVU _2n4wJlqY uq1qMUbD\"></span><span class=\"_82HNRypW\" style=\"font-size:14px\">19<!-- -->건의 리뷰</span></div></span></a><div class=\"_2jOg7aGD\">111위(서울에 있는 535곳 쇼핑 중)</div><div><div class=\"_3Qb-FY2O\"><div class=\"_3XWoDb5N\"></div><div class=\"_3VQ9cJNZ\"></div></div><a class=\"_2OD1jgdZ\" href=\"/Attraction_Review-g294197-d3694651-Reviews-Yeongdeungpo_Market-Seoul.html\" target=\"_blank\">더 알아보기</a></div></div>,\n",
       " <div class=\"_6sUF3jUd\"><a class=\"_1QKQOve4\" href=\"/Attraction_Review-g294197-d15272214-Reviews-Mapo_Agricultural_Marine_Products_Market-Seoul.html\" target=\"_blank\"><h2>마포 농수산물 시장</h2></a><a href=\"/Attraction_Review-g294197-d15272214-Reviews-Mapo_Agricultural_Marine_Products_Market-Seoul.html#REVIEWS\" target=\"_blank\"><span class=\"_3sNfOSUO\"><div class=\"tl4jgn9w _274P7u9u\" style=\"font-size:14px;line-height:1.29\"><span class=\"_1jcHBWVU _1-HtLqs3 uq1qMUbD\"></span><span class=\"_82HNRypW\" style=\"font-size:14px\">8<!-- -->건의 리뷰</span></div></span></a><div class=\"_2jOg7aGD\">122위(서울에 있는 535곳 쇼핑 중)</div><div><div class=\"_3Qb-FY2O\"><div class=\"_3XWoDb5N\"></div><div class=\"_3VQ9cJNZ\"></div></div><a class=\"_2OD1jgdZ\" href=\"/Attraction_Review-g294197-d15272214-Reviews-Mapo_Agricultural_Marine_Products_Market-Seoul.html\" target=\"_blank\">더 알아보기</a></div></div>,\n",
       " <div class=\"_6sUF3jUd\"><a class=\"_1QKQOve4\" href=\"/Attraction_Review-g294197-d14956599-Reviews-Jonglo3ga_Pojangmacha_Geoli-Seoul.html\" target=\"_blank\"><h2>종로3가 포장마차거리</h2></a><a href=\"/Attraction_Review-g294197-d14956599-Reviews-Jonglo3ga_Pojangmacha_Geoli-Seoul.html#REVIEWS\" target=\"_blank\"><span class=\"_3sNfOSUO\"><div class=\"tl4jgn9w _274P7u9u\" style=\"font-size:14px;line-height:1.29\"><span class=\"_1jcHBWVU _1-HtLqs3 uq1qMUbD\"></span><span class=\"_82HNRypW\" style=\"font-size:14px\">6<!-- -->건의 리뷰</span></div></span></a><div class=\"_2jOg7aGD\">132위(서울에 있는 535곳 쇼핑 중)</div><div><div class=\"_3Qb-FY2O\"><div class=\"_3XWoDb5N\"></div><div class=\"_3VQ9cJNZ\"></div></div><a class=\"_2OD1jgdZ\" href=\"/Attraction_Review-g294197-d14956599-Reviews-Jonglo3ga_Pojangmacha_Geoli-Seoul.html\" target=\"_blank\">더 알아보기</a></div></div>,\n",
       " <div class=\"_6sUF3jUd\"><a class=\"_1QKQOve4\" href=\"/Attraction_Review-g294197-d13319719-Reviews-Yeongcheon_Market-Seoul.html\" target=\"_blank\"><h2>영천시장</h2></a><a href=\"/Attraction_Review-g294197-d13319719-Reviews-Yeongcheon_Market-Seoul.html#REVIEWS\" target=\"_blank\"><span class=\"_3sNfOSUO\"><div class=\"tl4jgn9w _274P7u9u\" style=\"font-size:14px;line-height:1.29\"><span class=\"_1jcHBWVU _1RZqMyqR uq1qMUbD\"></span><span class=\"_82HNRypW\" style=\"font-size:14px\">3<!-- -->건의 리뷰</span></div></span></a><div class=\"_2jOg7aGD\">133위(서울에 있는 535곳 쇼핑 중)</div><div><div class=\"_3Qb-FY2O\"><div class=\"_3XWoDb5N\"></div><div class=\"_3VQ9cJNZ\"></div></div><a class=\"_2OD1jgdZ\" href=\"/Attraction_Review-g294197-d13319719-Reviews-Yeongcheon_Market-Seoul.html\" target=\"_blank\">더 알아보기</a></div></div>,\n",
       " <div class=\"_6sUF3jUd\"><a class=\"_1QKQOve4\" href=\"/Attraction_Review-g294197-d13004245-Reviews-Gongdeok_Market-Seoul.html\" target=\"_blank\"><h2>공덕시장</h2></a><a href=\"/Attraction_Review-g294197-d13004245-Reviews-Gongdeok_Market-Seoul.html#REVIEWS\" target=\"_blank\"><span class=\"_3sNfOSUO\"><div class=\"tl4jgn9w _274P7u9u\" style=\"font-size:14px;line-height:1.29\"><span class=\"_1jcHBWVU _2n4wJlqY uq1qMUbD\"></span><span class=\"_82HNRypW\" style=\"font-size:14px\">8<!-- -->건의 리뷰</span></div></span></a><div class=\"_2jOg7aGD\">135위(서울에 있는 535곳 쇼핑 중)</div><div><div class=\"_3Qb-FY2O\"><div class=\"_3XWoDb5N\"></div><div class=\"_3VQ9cJNZ\"></div></div><a class=\"_2OD1jgdZ\" href=\"/Attraction_Review-g294197-d13004245-Reviews-Gongdeok_Market-Seoul.html\" target=\"_blank\">더 알아보기</a></div></div>,\n",
       " <div class=\"_6sUF3jUd\"><a class=\"_1QKQOve4\" href=\"/Attraction_Review-g294197-d14112773-Reviews-Moraenae_Market-Seoul.html\" target=\"_blank\"><h2>모래내시장</h2></a><a href=\"/Attraction_Review-g294197-d14112773-Reviews-Moraenae_Market-Seoul.html#REVIEWS\" target=\"_blank\"><span class=\"_3sNfOSUO\"><div class=\"tl4jgn9w _274P7u9u\" style=\"font-size:14px;line-height:1.29\"><span class=\"_1jcHBWVU _1RZqMyqR uq1qMUbD\"></span><span class=\"_82HNRypW\" style=\"font-size:14px\">3<!-- -->건의 리뷰</span></div></span></a><div class=\"_2jOg7aGD\">142위(서울에 있는 535곳 쇼핑 중)</div><div><div class=\"_3Qb-FY2O\"><div class=\"_3XWoDb5N\"></div><div class=\"_3VQ9cJNZ\"></div></div><a class=\"_2OD1jgdZ\" href=\"/Attraction_Review-g294197-d14112773-Reviews-Moraenae_Market-Seoul.html\" target=\"_blank\">더 알아보기</a></div></div>,\n",
       " <div class=\"_6sUF3jUd\"><a class=\"_1QKQOve4\" href=\"/Attraction_Review-g294197-d14147296-Reviews-Seoul_Bamdokkaebi_Night_Market_Yeouido-Seoul.html\" target=\"_blank\"><h2>서울 밤도깨비 야시장 - 여의도</h2></a><a href=\"/Attraction_Review-g294197-d14147296-Reviews-Seoul_Bamdokkaebi_Night_Market_Yeouido-Seoul.html#REVIEWS\" target=\"_blank\"><span class=\"_3sNfOSUO\"><div class=\"tl4jgn9w _274P7u9u\" style=\"font-size:14px;line-height:1.29\"><span class=\"_1jcHBWVU _1-HtLqs3 uq1qMUbD\"></span><span class=\"_82HNRypW\" style=\"font-size:14px\">3<!-- -->건의 리뷰</span></div></span></a><div class=\"_2jOg7aGD\">155위(서울에 있는 535곳 쇼핑 중)</div><div><div class=\"_3Qb-FY2O\"><div class=\"_3XWoDb5N\"></div><div class=\"_3VQ9cJNZ\"></div></div><a class=\"_2OD1jgdZ\" href=\"/Attraction_Review-g294197-d14147296-Reviews-Seoul_Bamdokkaebi_Night_Market_Yeouido-Seoul.html\" target=\"_blank\">더 알아보기</a></div></div>,\n",
       " <div class=\"_6sUF3jUd\"><a class=\"_1QKQOve4\" href=\"/Attraction_Review-g294197-d14445951-Reviews-Macheon_Market-Seoul.html\" target=\"_blank\"><h2>마천시장</h2></a><a href=\"/Attraction_Review-g294197-d14445951-Reviews-Macheon_Market-Seoul.html#REVIEWS\" target=\"_blank\"><span class=\"_3sNfOSUO\"><div class=\"tl4jgn9w _274P7u9u\" style=\"font-size:14px;line-height:1.29\"><span class=\"_1jcHBWVU _2vB__cbb uq1qMUbD\"></span><span class=\"_82HNRypW\" style=\"font-size:14px\">1<!-- -->건의 리뷰</span></div></span></a><div class=\"_2jOg7aGD\">165위(서울에 있는 535곳 쇼핑 중)</div><div><div class=\"_3Qb-FY2O\"><div class=\"_3XWoDb5N\"></div><div class=\"_3VQ9cJNZ\"></div></div><a class=\"_2OD1jgdZ\" href=\"/Attraction_Review-g294197-d14445951-Reviews-Macheon_Market-Seoul.html\" target=\"_blank\">더 알아보기</a></div></div>,\n",
       " <div class=\"_6sUF3jUd\"><a class=\"_1QKQOve4\" href=\"/Attraction_Review-g294197-d15592744-Reviews-Cheongdam_Samik_Market-Seoul.html\" target=\"_blank\"><h2>청담삼익시장</h2></a><a href=\"/Attraction_Review-g294197-d15592744-Reviews-Cheongdam_Samik_Market-Seoul.html#REVIEWS\" target=\"_blank\"><span class=\"_3sNfOSUO\"><div class=\"tl4jgn9w _274P7u9u\" style=\"font-size:14px;line-height:1.29\"><span class=\"_1jcHBWVU _1-HtLqs3 uq1qMUbD\"></span><span class=\"_82HNRypW\" style=\"font-size:14px\">2<!-- -->건의 리뷰</span></div></span></a><div class=\"_2jOg7aGD\">170위(서울에 있는 535곳 쇼핑 중)</div><div><div class=\"_3Qb-FY2O\"><div class=\"_3XWoDb5N\"></div><div class=\"_3VQ9cJNZ\"></div></div><a class=\"_2OD1jgdZ\" href=\"/Attraction_Review-g294197-d15592744-Reviews-Cheongdam_Samik_Market-Seoul.html\" target=\"_blank\">더 알아보기</a></div></div>,\n",
       " <div class=\"_6sUF3jUd\"><a class=\"_1QKQOve4\" href=\"/Attraction_Review-g294197-d10686434-Reviews-Guro_Market-Seoul.html\" target=\"_blank\"><h2>구로시장</h2></a><a href=\"/Attraction_Review-g294197-d10686434-Reviews-Guro_Market-Seoul.html#REVIEWS\" target=\"_blank\"><span class=\"_3sNfOSUO\"><div class=\"tl4jgn9w _274P7u9u\" style=\"font-size:14px;line-height:1.29\"><span class=\"_1jcHBWVU _1-HtLqs3 uq1qMUbD\"></span><span class=\"_82HNRypW\" style=\"font-size:14px\">2<!-- -->건의 리뷰</span></div></span></a><div class=\"_2jOg7aGD\">187위(서울에 있는 535곳 쇼핑 중)</div><div><div class=\"_3Qb-FY2O\"><div class=\"_3XWoDb5N\"></div><div class=\"_3VQ9cJNZ\"></div></div><a class=\"_2OD1jgdZ\" href=\"/Attraction_Review-g294197-d10686434-Reviews-Guro_Market-Seoul.html\" target=\"_blank\">더 알아보기</a></div></div>,\n",
       " <div class=\"_6sUF3jUd\"><a class=\"_1QKQOve4\" href=\"/Attraction_Review-g294197-d7892016-Reviews-Ttukseom_Flea_Market-Seoul.html\" target=\"_blank\"><h2>뚝섬 아름다운 나눔장터</h2></a><a href=\"/Attraction_Review-g294197-d7892016-Reviews-Ttukseom_Flea_Market-Seoul.html#REVIEWS\" target=\"_blank\"><span class=\"_3sNfOSUO\"><div class=\"tl4jgn9w _274P7u9u\" style=\"font-size:14px;line-height:1.29\"><span class=\"_1jcHBWVU _2n4wJlqY uq1qMUbD\"></span><span class=\"_82HNRypW\" style=\"font-size:14px\">6<!-- -->건의 리뷰</span></div></span></a><div class=\"_2jOg7aGD\">194위(서울에 있는 535곳 쇼핑 중)</div><div><div class=\"_3Qb-FY2O\"><div class=\"_3XWoDb5N\"></div><div class=\"_3VQ9cJNZ\"></div></div><a class=\"_2OD1jgdZ\" href=\"/Attraction_Review-g294197-d7892016-Reviews-Ttukseom_Flea_Market-Seoul.html\" target=\"_blank\">더 알아보기</a></div></div>]"
      ]
     },
     "execution_count": 27,
     "metadata": {},
     "output_type": "execute_result"
    }
   ],
   "source": [
    "lists"
   ]
  },
  {
   "cell_type": "code",
   "execution_count": 30,
   "metadata": {
    "collapsed": true
   },
   "outputs": [
    {
     "name": "stdout",
     "output_type": "stream",
     "text": [
      "홍대앞 예술시장 프리마켓\n",
      "광장시장\n",
      "마장 축산물시장\n",
      "남대문시장\n",
      "쌈지길\n",
      "중부시장\n",
      "동대문 시장\n",
      "노량진 수산물 도매시장\n",
      "망원시장\n",
      "가락시장\n",
      "종로신진시장\n",
      "둔촌역 전통시장\n",
      "장미제일시장\n",
      "암사종합시장\n",
      "용답 푸르미르 상가시장\n",
      "영동전통시장\n",
      "서울중앙시장\n",
      "동묘벼룩시장\n",
      "서울풍물시장\n",
      "영등포중앙시장\n",
      "마포 농수산물 시장\n",
      "종로3가 포장마차거리\n",
      "영천시장\n",
      "공덕시장\n",
      "모래내시장\n",
      "서울 밤도깨비 야시장 - 여의도\n",
      "마천시장\n",
      "청담삼익시장\n",
      "구로시장\n",
      "뚝섬 아름다운 나눔장터\n"
     ]
    }
   ],
   "source": [
    "for item in lists:\n",
    "    name = item.find('h2')\n",
    "    print(name.text)"
   ]
  },
  {
   "cell_type": "code",
   "execution_count": 28,
   "metadata": {
    "collapsed": true
   },
   "outputs": [
    {
     "data": {
      "text/plain": [
       "[<div class=\"_6sUF3jUd\"><a class=\"_1QKQOve4\" href=\"/Attraction_Review-g294197-d7154750-Reviews-Hongdae_Art_Market_Free_Market-Seoul.html\" target=\"_blank\"><h2>홍대앞 예술시장 프리마켓</h2></a><a href=\"/Attraction_Review-g294197-d7154750-Reviews-Hongdae_Art_Market_Free_Market-Seoul.html#REVIEWS\" target=\"_blank\"><span class=\"_3sNfOSUO\"><div class=\"tl4jgn9w _274P7u9u\" style=\"font-size:14px;line-height:1.29\"><span class=\"_1jcHBWVU _1RZqMyqR uq1qMUbD\"></span><span class=\"_82HNRypW\" style=\"font-size:14px\">196<!-- -->건의 리뷰</span></div></span></a><div class=\"_2jOg7aGD\">4위(서울에 있는 535곳 쇼핑 중)</div><div><div class=\"_3Qb-FY2O\"><div class=\"_3XWoDb5N\"></div><div class=\"_3VQ9cJNZ\"></div></div><a class=\"_2OD1jgdZ\" href=\"/Attraction_Review-g294197-d7154750-Reviews-Hongdae_Art_Market_Free_Market-Seoul.html\" target=\"_blank\">더 알아보기</a></div></div>,\n",
       " <div class=\"_6sUF3jUd\"><a class=\"_1QKQOve4\" href=\"/Attraction_Review-g294197-d1552278-Reviews-Kwangjang_Market-Seoul.html\" target=\"_blank\"><h2>광장시장</h2></a><a href=\"/Attraction_Review-g294197-d1552278-Reviews-Kwangjang_Market-Seoul.html#REVIEWS\" target=\"_blank\"><span class=\"_3sNfOSUO\"><div class=\"tl4jgn9w _274P7u9u\" style=\"font-size:14px;line-height:1.29\"><span class=\"_1jcHBWVU _1-HtLqs3 uq1qMUbD\"></span><span class=\"_82HNRypW\" style=\"font-size:14px\">2,304<!-- -->건의 리뷰</span></div></span></a><div class=\"_2jOg7aGD\">5위(서울에 있는 535곳 쇼핑 중)</div><div><div class=\"_3Qb-FY2O\"><div class=\"_3XWoDb5N\"></div><div class=\"_3VQ9cJNZ\"></div></div><a class=\"_2OD1jgdZ\" href=\"/Attraction_Review-g294197-d1552278-Reviews-Kwangjang_Market-Seoul.html\" target=\"_blank\">더 알아보기</a></div></div>,\n",
       " <div class=\"_6sUF3jUd\"><a class=\"_1QKQOve4\" href=\"/Attraction_Review-g294197-d1956582-Reviews-Majang_Meat_Market-Seoul.html\" target=\"_blank\"><h2>마장 축산물시장</h2></a><a href=\"/Attraction_Review-g294197-d1956582-Reviews-Majang_Meat_Market-Seoul.html#REVIEWS\" target=\"_blank\"><span class=\"_3sNfOSUO\"><div class=\"tl4jgn9w _274P7u9u\" style=\"font-size:14px;line-height:1.29\"><span class=\"_1jcHBWVU _1RZqMyqR uq1qMUbD\"></span><span class=\"_82HNRypW\" style=\"font-size:14px\">99<!-- -->건의 리뷰</span></div></span></a><div class=\"_2jOg7aGD\">13위(서울에 있는 535곳 쇼핑 중)</div><div><div class=\"_3Qb-FY2O\"><div class=\"_3XWoDb5N\"></div><div class=\"_3VQ9cJNZ\"></div></div><a class=\"_2OD1jgdZ\" href=\"/Attraction_Review-g294197-d1956582-Reviews-Majang_Meat_Market-Seoul.html\" target=\"_blank\">더 알아보기</a></div></div>,\n",
       " <div class=\"_6sUF3jUd\"><a class=\"_1QKQOve4\" href=\"/Attraction_Review-g294197-d324907-Reviews-Namdaemun_Market-Seoul.html\" target=\"_blank\"><h2>남대문시장</h2></a><a href=\"/Attraction_Review-g294197-d324907-Reviews-Namdaemun_Market-Seoul.html#REVIEWS\" target=\"_blank\"><span class=\"_3sNfOSUO\"><div class=\"tl4jgn9w _274P7u9u\" style=\"font-size:14px;line-height:1.29\"><span class=\"_1jcHBWVU _1-HtLqs3 uq1qMUbD\"></span><span class=\"_82HNRypW\" style=\"font-size:14px\">2,895<!-- -->건의 리뷰</span></div></span></a><div class=\"_2jOg7aGD\">14위(서울에 있는 535곳 쇼핑 중)</div><div><div class=\"_3Qb-FY2O\"><div class=\"_3XWoDb5N\"></div><div class=\"_3VQ9cJNZ\"></div></div><a class=\"_2OD1jgdZ\" href=\"/Attraction_Review-g294197-d324907-Reviews-Namdaemun_Market-Seoul.html\" target=\"_blank\">더 알아보기</a></div></div>,\n",
       " <div class=\"_6sUF3jUd\"><a class=\"_1QKQOve4\" href=\"/Attraction_Review-g294197-d1766551-Reviews-Ssamzigil-Seoul.html\" target=\"_blank\"><h2>쌈지길</h2></a><a href=\"/Attraction_Review-g294197-d1766551-Reviews-Ssamzigil-Seoul.html#REVIEWS\" target=\"_blank\"><span class=\"_3sNfOSUO\"><div class=\"tl4jgn9w _274P7u9u\" style=\"font-size:14px;line-height:1.29\"><span class=\"_1jcHBWVU _1-HtLqs3 uq1qMUbD\"></span><span class=\"_82HNRypW\" style=\"font-size:14px\">461<!-- -->건의 리뷰</span></div></span></a><div class=\"_2jOg7aGD\">15위(서울에 있는 535곳 쇼핑 중)</div><div><div class=\"_3Qb-FY2O\"><div class=\"_3XWoDb5N\"></div><div class=\"_3VQ9cJNZ\"></div></div><a class=\"_2OD1jgdZ\" href=\"/Attraction_Review-g294197-d1766551-Reviews-Ssamzigil-Seoul.html\" target=\"_blank\">더 알아보기</a></div></div>,\n",
       " <div class=\"_6sUF3jUd\"><a class=\"_1QKQOve4\" href=\"/Attraction_Review-g294197-d1163226-Reviews-Jungbu_Market-Seoul.html\" target=\"_blank\"><h2>중부시장</h2></a><a href=\"/Attraction_Review-g294197-d1163226-Reviews-Jungbu_Market-Seoul.html#REVIEWS\" target=\"_blank\"><span class=\"_3sNfOSUO\"><div class=\"tl4jgn9w _274P7u9u\" style=\"font-size:14px;line-height:1.29\"><span class=\"_1jcHBWVU _1-HtLqs3 uq1qMUbD\"></span><span class=\"_82HNRypW\" style=\"font-size:14px\">114<!-- -->건의 리뷰</span></div></span></a><div class=\"_2jOg7aGD\">17위(서울에 있는 535곳 쇼핑 중)</div><div><div class=\"_3Qb-FY2O\"><div class=\"_3XWoDb5N\"></div><div class=\"_3VQ9cJNZ\"></div></div><a class=\"_2OD1jgdZ\" href=\"/Attraction_Review-g294197-d1163226-Reviews-Jungbu_Market-Seoul.html\" target=\"_blank\">더 알아보기</a></div></div>,\n",
       " <div class=\"_6sUF3jUd\"><a class=\"_1QKQOve4\" href=\"/Attraction_Review-g294197-d1537022-Reviews-Dongdaemun_Market-Seoul.html\" target=\"_blank\"><h2>동대문 시장</h2></a><a href=\"/Attraction_Review-g294197-d1537022-Reviews-Dongdaemun_Market-Seoul.html#REVIEWS\" target=\"_blank\"><span class=\"_3sNfOSUO\"><div class=\"tl4jgn9w _274P7u9u\" style=\"font-size:14px;line-height:1.29\"><span class=\"_1jcHBWVU _1-HtLqs3 uq1qMUbD\"></span><span class=\"_82HNRypW\" style=\"font-size:14px\">335<!-- -->건의 리뷰</span></div></span></a><div class=\"_2jOg7aGD\">21위(서울에 있는 535곳 쇼핑 중)</div><div><div class=\"_3Qb-FY2O\"><div class=\"_3XWoDb5N\"></div><div class=\"_3VQ9cJNZ\"></div></div><a class=\"_2OD1jgdZ\" href=\"/Attraction_Review-g294197-d1537022-Reviews-Dongdaemun_Market-Seoul.html\" target=\"_blank\">더 알아보기</a></div></div>,\n",
       " <div class=\"_6sUF3jUd\"><a class=\"_1QKQOve4\" href=\"/Attraction_Review-g294197-d7376481-Reviews-Noryangjin_Fisheries_Wholesale_Market-Seoul.html\" target=\"_blank\"><h2>노량진 수산물 도매시장</h2></a><a href=\"/Attraction_Review-g294197-d7376481-Reviews-Noryangjin_Fisheries_Wholesale_Market-Seoul.html#REVIEWS\" target=\"_blank\"><span class=\"_3sNfOSUO\"><div class=\"tl4jgn9w _274P7u9u\" style=\"font-size:14px;line-height:1.29\"><span class=\"_1jcHBWVU _1-HtLqs3 uq1qMUbD\"></span><span class=\"_82HNRypW\" style=\"font-size:14px\">894<!-- -->건의 리뷰</span></div></span></a><div class=\"_2jOg7aGD\">23위(서울에 있는 535곳 쇼핑 중)</div><div><div class=\"_3Qb-FY2O\"><div class=\"_3XWoDb5N\"></div><div class=\"_3VQ9cJNZ\"></div></div><a class=\"_2OD1jgdZ\" href=\"/Attraction_Review-g294197-d7376481-Reviews-Noryangjin_Fisheries_Wholesale_Market-Seoul.html\" target=\"_blank\">더 알아보기</a></div></div>,\n",
       " <div class=\"_6sUF3jUd\"><a class=\"_1QKQOve4\" href=\"/Attraction_Review-g294197-d13319724-Reviews-Mangwon_Market-Seoul.html\" target=\"_blank\"><h2>망원시장</h2></a><a href=\"/Attraction_Review-g294197-d13319724-Reviews-Mangwon_Market-Seoul.html#REVIEWS\" target=\"_blank\"><span class=\"_3sNfOSUO\"><div class=\"tl4jgn9w _274P7u9u\" style=\"font-size:14px;line-height:1.29\"><span class=\"_1jcHBWVU _1-HtLqs3 uq1qMUbD\"></span><span class=\"_82HNRypW\" style=\"font-size:14px\">36<!-- -->건의 리뷰</span></div></span></a><div class=\"_2jOg7aGD\">43위(서울에 있는 535곳 쇼핑 중)</div><div><div class=\"_3Qb-FY2O\"><div class=\"_3XWoDb5N\"></div><div class=\"_3VQ9cJNZ\"></div></div><a class=\"_2OD1jgdZ\" href=\"/Attraction_Review-g294197-d13319724-Reviews-Mangwon_Market-Seoul.html\" target=\"_blank\">더 알아보기</a></div></div>,\n",
       " <div class=\"_6sUF3jUd\"><a class=\"_1QKQOve4\" href=\"/Attraction_Review-g294197-d7891956-Reviews-Garak_Market-Seoul.html\" target=\"_blank\"><h2>가락시장</h2></a><a href=\"/Attraction_Review-g294197-d7891956-Reviews-Garak_Market-Seoul.html#REVIEWS\" target=\"_blank\"><span class=\"_3sNfOSUO\"><div class=\"tl4jgn9w _274P7u9u\" style=\"font-size:14px;line-height:1.29\"><span class=\"_1jcHBWVU _1-HtLqs3 uq1qMUbD\"></span><span class=\"_82HNRypW\" style=\"font-size:14px\">42<!-- -->건의 리뷰</span></div></span></a><div class=\"_2jOg7aGD\">48위(서울에 있는 535곳 쇼핑 중)</div><div><div class=\"_3Qb-FY2O\"><div class=\"_3XWoDb5N\"></div><div class=\"_3VQ9cJNZ\"></div></div><a class=\"_2OD1jgdZ\" href=\"/Attraction_Review-g294197-d7891956-Reviews-Garak_Market-Seoul.html\" target=\"_blank\">더 알아보기</a></div></div>,\n",
       " <div class=\"_6sUF3jUd\"><a class=\"_1QKQOve4\" href=\"/Attraction_Review-g294197-d19243838-Reviews-Jongno_Sinjin_Market-Seoul.html\" target=\"_blank\"><h2>종로신진시장</h2></a><a href=\"/Attraction_Review-g294197-d19243838-Reviews-Jongno_Sinjin_Market-Seoul.html#REVIEWS\" target=\"_blank\"><span class=\"_3sNfOSUO\"><div class=\"tl4jgn9w _274P7u9u\" style=\"font-size:14px;line-height:1.29\"><span class=\"_1jcHBWVU _1-HtLqs3 uq1qMUbD\"></span><span class=\"_82HNRypW\" style=\"font-size:14px\">2<!-- -->건의 리뷰</span></div></span></a><div class=\"_2jOg7aGD\">55위(서울에 있는 535곳 쇼핑 중)</div><div><div class=\"_3Qb-FY2O\"><div class=\"_3XWoDb5N\"></div><div class=\"_3VQ9cJNZ\"></div></div><a class=\"_2OD1jgdZ\" href=\"/Attraction_Review-g294197-d19243838-Reviews-Jongno_Sinjin_Market-Seoul.html\" target=\"_blank\">더 알아보기</a></div></div>,\n",
       " <div class=\"_6sUF3jUd\"><a class=\"_1QKQOve4\" href=\"/Attraction_Review-g294197-d20717941-Reviews-Dunchon_Market-Seoul.html\" target=\"_blank\"><h2>둔촌역 전통시장</h2></a><a href=\"/Attraction_Review-g294197-d20717941-Reviews-Dunchon_Market-Seoul.html#REVIEWS\" target=\"_blank\"><span class=\"_3sNfOSUO\"><div class=\"tl4jgn9w _274P7u9u\" style=\"font-size:14px;line-height:1.29\"><span class=\"_1jcHBWVU _1-HtLqs3 uq1qMUbD\"></span><span class=\"_82HNRypW\" style=\"font-size:14px\">1<!-- -->건의 리뷰</span></div></span></a><div class=\"_2jOg7aGD\">67위(서울에 있는 535곳 쇼핑 중)</div><div><div class=\"_3Qb-FY2O\"><div class=\"_3XWoDb5N\"></div><div class=\"_3VQ9cJNZ\"></div></div><a class=\"_2OD1jgdZ\" href=\"/Attraction_Review-g294197-d20717941-Reviews-Dunchon_Market-Seoul.html\" target=\"_blank\">더 알아보기</a></div></div>,\n",
       " <div class=\"_6sUF3jUd\"><a class=\"_1QKQOve4\" href=\"/Attraction_Review-g294197-d20324295-Reviews-Jangmi_Jeil_Sijang-Seoul.html\" target=\"_blank\"><h2>장미제일시장</h2></a><a href=\"/Attraction_Review-g294197-d20324295-Reviews-Jangmi_Jeil_Sijang-Seoul.html#REVIEWS\" target=\"_blank\"><span class=\"_3sNfOSUO\"><div class=\"tl4jgn9w _274P7u9u\" style=\"font-size:14px;line-height:1.29\"><span class=\"_1jcHBWVU _1-HtLqs3 uq1qMUbD\"></span><span class=\"_82HNRypW\" style=\"font-size:14px\">1<!-- -->건의 리뷰</span></div></span></a><div class=\"_2jOg7aGD\">68위(서울에 있는 535곳 쇼핑 중)</div><div><div class=\"_3Qb-FY2O\"><div class=\"_3XWoDb5N\"></div><div class=\"_3VQ9cJNZ\"></div></div><a class=\"_2OD1jgdZ\" href=\"/Attraction_Review-g294197-d20324295-Reviews-Jangmi_Jeil_Sijang-Seoul.html\" target=\"_blank\">더 알아보기</a></div></div>,\n",
       " <div class=\"_6sUF3jUd\"><a class=\"_1QKQOve4\" href=\"/Attraction_Review-g294197-d18970042-Reviews-Amsa_Complex_Market-Seoul.html\" target=\"_blank\"><h2>암사종합시장</h2></a><a href=\"/Attraction_Review-g294197-d18970042-Reviews-Amsa_Complex_Market-Seoul.html#REVIEWS\" target=\"_blank\"><span class=\"_3sNfOSUO\"><div class=\"tl4jgn9w _274P7u9u\" style=\"font-size:14px;line-height:1.29\"><span class=\"_1jcHBWVU _1-HtLqs3 uq1qMUbD\"></span><span class=\"_82HNRypW\" style=\"font-size:14px\">1<!-- -->건의 리뷰</span></div></span></a><div class=\"_2jOg7aGD\">69위(서울에 있는 535곳 쇼핑 중)</div><div><div class=\"_3Qb-FY2O\"><div class=\"_3XWoDb5N\"></div><div class=\"_3VQ9cJNZ\"></div></div><a class=\"_2OD1jgdZ\" href=\"/Attraction_Review-g294197-d18970042-Reviews-Amsa_Complex_Market-Seoul.html\" target=\"_blank\">더 알아보기</a></div></div>,\n",
       " <div class=\"_6sUF3jUd\"><a class=\"_1QKQOve4\" href=\"/Attraction_Review-g294197-d20283457-Reviews-Yongdap_Puleumileu_Sangga_Sijang-Seoul.html\" target=\"_blank\"><h2>용답 푸르미르 상가시장</h2></a><a href=\"/Attraction_Review-g294197-d20283457-Reviews-Yongdap_Puleumileu_Sangga_Sijang-Seoul.html#REVIEWS\" target=\"_blank\"><span class=\"_3sNfOSUO\"><div class=\"tl4jgn9w _274P7u9u\" style=\"font-size:14px;line-height:1.29\"><span class=\"_1jcHBWVU _1-HtLqs3 uq1qMUbD\"></span><span class=\"_82HNRypW\" style=\"font-size:14px\">1<!-- -->건의 리뷰</span></div></span></a><div class=\"_2jOg7aGD\">70위(서울에 있는 535곳 쇼핑 중)</div><div><div class=\"_3Qb-FY2O\"><div class=\"_3XWoDb5N\"></div><div class=\"_3VQ9cJNZ\"></div></div><a class=\"_2OD1jgdZ\" href=\"/Attraction_Review-g294197-d20283457-Reviews-Yongdap_Puleumileu_Sangga_Sijang-Seoul.html\" target=\"_blank\">더 알아보기</a></div></div>,\n",
       " <div class=\"_6sUF3jUd\"><a class=\"_1QKQOve4\" href=\"/Attraction_Review-g294197-d19254790-Reviews-Yeongdong_Traditional_Market-Seoul.html\" target=\"_blank\"><h2>영동전통시장</h2></a><a href=\"/Attraction_Review-g294197-d19254790-Reviews-Yeongdong_Traditional_Market-Seoul.html#REVIEWS\" target=\"_blank\"><span class=\"_3sNfOSUO\"><div class=\"tl4jgn9w _274P7u9u\" style=\"font-size:14px;line-height:1.29\"><span class=\"_1jcHBWVU _1-HtLqs3 uq1qMUbD\"></span><span class=\"_82HNRypW\" style=\"font-size:14px\">1<!-- -->건의 리뷰</span></div></span></a><div class=\"_2jOg7aGD\">71위(서울에 있는 535곳 쇼핑 중)</div><div><div class=\"_3Qb-FY2O\"><div class=\"_3XWoDb5N\"></div><div class=\"_3VQ9cJNZ\"></div></div><a class=\"_2OD1jgdZ\" href=\"/Attraction_Review-g294197-d19254790-Reviews-Yeongdong_Traditional_Market-Seoul.html\" target=\"_blank\">더 알아보기</a></div></div>,\n",
       " <div class=\"_6sUF3jUd\"><a class=\"_1QKQOve4\" href=\"/Attraction_Review-g294197-d20324285-Reviews-Seoul_Central_Market-Seoul.html\" target=\"_blank\"><h2>서울중앙시장</h2></a><a href=\"/Attraction_Review-g294197-d20324285-Reviews-Seoul_Central_Market-Seoul.html#REVIEWS\" target=\"_blank\"><span class=\"_3sNfOSUO\"><div class=\"tl4jgn9w _274P7u9u\" style=\"font-size:14px;line-height:1.29\"><span class=\"_1jcHBWVU _3RqovlMp uq1qMUbD\"></span><span class=\"_82HNRypW\" style=\"font-size:14px\">1<!-- -->건의 리뷰</span></div></span></a><div class=\"_2jOg7aGD\">78위(서울에 있는 535곳 쇼핑 중)</div><div><div class=\"_3Qb-FY2O\"><div class=\"_3XWoDb5N\"></div><div class=\"_3VQ9cJNZ\"></div></div><a class=\"_2OD1jgdZ\" href=\"/Attraction_Review-g294197-d20324285-Reviews-Seoul_Central_Market-Seoul.html\" target=\"_blank\">더 알아보기</a></div></div>,\n",
       " <div class=\"_6sUF3jUd\"><a class=\"_1QKQOve4\" href=\"/Attraction_Review-g294197-d7154928-Reviews-Dongmyo_Flea_Market-Seoul.html\" target=\"_blank\"><h2>동묘벼룩시장</h2></a><a href=\"/Attraction_Review-g294197-d7154928-Reviews-Dongmyo_Flea_Market-Seoul.html#REVIEWS\" target=\"_blank\"><span class=\"_3sNfOSUO\"><div class=\"tl4jgn9w _274P7u9u\" style=\"font-size:14px;line-height:1.29\"><span class=\"_1jcHBWVU _1-HtLqs3 uq1qMUbD\"></span><span class=\"_82HNRypW\" style=\"font-size:14px\">21<!-- -->건의 리뷰</span></div></span></a><div class=\"_2jOg7aGD\">91위(서울에 있는 535곳 쇼핑 중)</div><div><div class=\"_3Qb-FY2O\"><div class=\"_3XWoDb5N\"></div><div class=\"_3VQ9cJNZ\"></div></div><a class=\"_2OD1jgdZ\" href=\"/Attraction_Review-g294197-d7154928-Reviews-Dongmyo_Flea_Market-Seoul.html\" target=\"_blank\">더 알아보기</a></div></div>,\n",
       " <div class=\"_6sUF3jUd\"><a class=\"_1QKQOve4\" href=\"/Attraction_Review-g294197-d2367771-Reviews-Seoul_Folk_Flea_Market-Seoul.html\" target=\"_blank\"><h2>서울풍물시장</h2></a><a href=\"/Attraction_Review-g294197-d2367771-Reviews-Seoul_Folk_Flea_Market-Seoul.html#REVIEWS\" target=\"_blank\"><span class=\"_3sNfOSUO\"><div class=\"tl4jgn9w _274P7u9u\" style=\"font-size:14px;line-height:1.29\"><span class=\"_1jcHBWVU _2n4wJlqY uq1qMUbD\"></span><span class=\"_82HNRypW\" style=\"font-size:14px\">56<!-- -->건의 리뷰</span></div></span></a><div class=\"_2jOg7aGD\">101위(서울에 있는 535곳 쇼핑 중)</div><div><div class=\"_3Qb-FY2O\"><div class=\"_3XWoDb5N\"></div><div class=\"_3VQ9cJNZ\"></div></div><a class=\"_2OD1jgdZ\" href=\"/Attraction_Review-g294197-d2367771-Reviews-Seoul_Folk_Flea_Market-Seoul.html\" target=\"_blank\">더 알아보기</a></div></div>,\n",
       " <div class=\"_6sUF3jUd\"><a class=\"_1QKQOve4\" href=\"/Attraction_Review-g294197-d3694651-Reviews-Yeongdeungpo_Market-Seoul.html\" target=\"_blank\"><h2>영등포중앙시장</h2></a><a href=\"/Attraction_Review-g294197-d3694651-Reviews-Yeongdeungpo_Market-Seoul.html#REVIEWS\" target=\"_blank\"><span class=\"_3sNfOSUO\"><div class=\"tl4jgn9w _274P7u9u\" style=\"font-size:14px;line-height:1.29\"><span class=\"_1jcHBWVU _2n4wJlqY uq1qMUbD\"></span><span class=\"_82HNRypW\" style=\"font-size:14px\">19<!-- -->건의 리뷰</span></div></span></a><div class=\"_2jOg7aGD\">111위(서울에 있는 535곳 쇼핑 중)</div><div><div class=\"_3Qb-FY2O\"><div class=\"_3XWoDb5N\"></div><div class=\"_3VQ9cJNZ\"></div></div><a class=\"_2OD1jgdZ\" href=\"/Attraction_Review-g294197-d3694651-Reviews-Yeongdeungpo_Market-Seoul.html\" target=\"_blank\">더 알아보기</a></div></div>,\n",
       " <div class=\"_6sUF3jUd\"><a class=\"_1QKQOve4\" href=\"/Attraction_Review-g294197-d15272214-Reviews-Mapo_Agricultural_Marine_Products_Market-Seoul.html\" target=\"_blank\"><h2>마포 농수산물 시장</h2></a><a href=\"/Attraction_Review-g294197-d15272214-Reviews-Mapo_Agricultural_Marine_Products_Market-Seoul.html#REVIEWS\" target=\"_blank\"><span class=\"_3sNfOSUO\"><div class=\"tl4jgn9w _274P7u9u\" style=\"font-size:14px;line-height:1.29\"><span class=\"_1jcHBWVU _1-HtLqs3 uq1qMUbD\"></span><span class=\"_82HNRypW\" style=\"font-size:14px\">8<!-- -->건의 리뷰</span></div></span></a><div class=\"_2jOg7aGD\">122위(서울에 있는 535곳 쇼핑 중)</div><div><div class=\"_3Qb-FY2O\"><div class=\"_3XWoDb5N\"></div><div class=\"_3VQ9cJNZ\"></div></div><a class=\"_2OD1jgdZ\" href=\"/Attraction_Review-g294197-d15272214-Reviews-Mapo_Agricultural_Marine_Products_Market-Seoul.html\" target=\"_blank\">더 알아보기</a></div></div>,\n",
       " <div class=\"_6sUF3jUd\"><a class=\"_1QKQOve4\" href=\"/Attraction_Review-g294197-d14956599-Reviews-Jonglo3ga_Pojangmacha_Geoli-Seoul.html\" target=\"_blank\"><h2>종로3가 포장마차거리</h2></a><a href=\"/Attraction_Review-g294197-d14956599-Reviews-Jonglo3ga_Pojangmacha_Geoli-Seoul.html#REVIEWS\" target=\"_blank\"><span class=\"_3sNfOSUO\"><div class=\"tl4jgn9w _274P7u9u\" style=\"font-size:14px;line-height:1.29\"><span class=\"_1jcHBWVU _1-HtLqs3 uq1qMUbD\"></span><span class=\"_82HNRypW\" style=\"font-size:14px\">6<!-- -->건의 리뷰</span></div></span></a><div class=\"_2jOg7aGD\">132위(서울에 있는 535곳 쇼핑 중)</div><div><div class=\"_3Qb-FY2O\"><div class=\"_3XWoDb5N\"></div><div class=\"_3VQ9cJNZ\"></div></div><a class=\"_2OD1jgdZ\" href=\"/Attraction_Review-g294197-d14956599-Reviews-Jonglo3ga_Pojangmacha_Geoli-Seoul.html\" target=\"_blank\">더 알아보기</a></div></div>,\n",
       " <div class=\"_6sUF3jUd\"><a class=\"_1QKQOve4\" href=\"/Attraction_Review-g294197-d13319719-Reviews-Yeongcheon_Market-Seoul.html\" target=\"_blank\"><h2>영천시장</h2></a><a href=\"/Attraction_Review-g294197-d13319719-Reviews-Yeongcheon_Market-Seoul.html#REVIEWS\" target=\"_blank\"><span class=\"_3sNfOSUO\"><div class=\"tl4jgn9w _274P7u9u\" style=\"font-size:14px;line-height:1.29\"><span class=\"_1jcHBWVU _1RZqMyqR uq1qMUbD\"></span><span class=\"_82HNRypW\" style=\"font-size:14px\">3<!-- -->건의 리뷰</span></div></span></a><div class=\"_2jOg7aGD\">133위(서울에 있는 535곳 쇼핑 중)</div><div><div class=\"_3Qb-FY2O\"><div class=\"_3XWoDb5N\"></div><div class=\"_3VQ9cJNZ\"></div></div><a class=\"_2OD1jgdZ\" href=\"/Attraction_Review-g294197-d13319719-Reviews-Yeongcheon_Market-Seoul.html\" target=\"_blank\">더 알아보기</a></div></div>,\n",
       " <div class=\"_6sUF3jUd\"><a class=\"_1QKQOve4\" href=\"/Attraction_Review-g294197-d13004245-Reviews-Gongdeok_Market-Seoul.html\" target=\"_blank\"><h2>공덕시장</h2></a><a href=\"/Attraction_Review-g294197-d13004245-Reviews-Gongdeok_Market-Seoul.html#REVIEWS\" target=\"_blank\"><span class=\"_3sNfOSUO\"><div class=\"tl4jgn9w _274P7u9u\" style=\"font-size:14px;line-height:1.29\"><span class=\"_1jcHBWVU _2n4wJlqY uq1qMUbD\"></span><span class=\"_82HNRypW\" style=\"font-size:14px\">8<!-- -->건의 리뷰</span></div></span></a><div class=\"_2jOg7aGD\">135위(서울에 있는 535곳 쇼핑 중)</div><div><div class=\"_3Qb-FY2O\"><div class=\"_3XWoDb5N\"></div><div class=\"_3VQ9cJNZ\"></div></div><a class=\"_2OD1jgdZ\" href=\"/Attraction_Review-g294197-d13004245-Reviews-Gongdeok_Market-Seoul.html\" target=\"_blank\">더 알아보기</a></div></div>,\n",
       " <div class=\"_6sUF3jUd\"><a class=\"_1QKQOve4\" href=\"/Attraction_Review-g294197-d14112773-Reviews-Moraenae_Market-Seoul.html\" target=\"_blank\"><h2>모래내시장</h2></a><a href=\"/Attraction_Review-g294197-d14112773-Reviews-Moraenae_Market-Seoul.html#REVIEWS\" target=\"_blank\"><span class=\"_3sNfOSUO\"><div class=\"tl4jgn9w _274P7u9u\" style=\"font-size:14px;line-height:1.29\"><span class=\"_1jcHBWVU _1RZqMyqR uq1qMUbD\"></span><span class=\"_82HNRypW\" style=\"font-size:14px\">3<!-- -->건의 리뷰</span></div></span></a><div class=\"_2jOg7aGD\">142위(서울에 있는 535곳 쇼핑 중)</div><div><div class=\"_3Qb-FY2O\"><div class=\"_3XWoDb5N\"></div><div class=\"_3VQ9cJNZ\"></div></div><a class=\"_2OD1jgdZ\" href=\"/Attraction_Review-g294197-d14112773-Reviews-Moraenae_Market-Seoul.html\" target=\"_blank\">더 알아보기</a></div></div>,\n",
       " <div class=\"_6sUF3jUd\"><a class=\"_1QKQOve4\" href=\"/Attraction_Review-g294197-d14147296-Reviews-Seoul_Bamdokkaebi_Night_Market_Yeouido-Seoul.html\" target=\"_blank\"><h2>서울 밤도깨비 야시장 - 여의도</h2></a><a href=\"/Attraction_Review-g294197-d14147296-Reviews-Seoul_Bamdokkaebi_Night_Market_Yeouido-Seoul.html#REVIEWS\" target=\"_blank\"><span class=\"_3sNfOSUO\"><div class=\"tl4jgn9w _274P7u9u\" style=\"font-size:14px;line-height:1.29\"><span class=\"_1jcHBWVU _1-HtLqs3 uq1qMUbD\"></span><span class=\"_82HNRypW\" style=\"font-size:14px\">3<!-- -->건의 리뷰</span></div></span></a><div class=\"_2jOg7aGD\">155위(서울에 있는 535곳 쇼핑 중)</div><div><div class=\"_3Qb-FY2O\"><div class=\"_3XWoDb5N\"></div><div class=\"_3VQ9cJNZ\"></div></div><a class=\"_2OD1jgdZ\" href=\"/Attraction_Review-g294197-d14147296-Reviews-Seoul_Bamdokkaebi_Night_Market_Yeouido-Seoul.html\" target=\"_blank\">더 알아보기</a></div></div>,\n",
       " <div class=\"_6sUF3jUd\"><a class=\"_1QKQOve4\" href=\"/Attraction_Review-g294197-d14445951-Reviews-Macheon_Market-Seoul.html\" target=\"_blank\"><h2>마천시장</h2></a><a href=\"/Attraction_Review-g294197-d14445951-Reviews-Macheon_Market-Seoul.html#REVIEWS\" target=\"_blank\"><span class=\"_3sNfOSUO\"><div class=\"tl4jgn9w _274P7u9u\" style=\"font-size:14px;line-height:1.29\"><span class=\"_1jcHBWVU _2vB__cbb uq1qMUbD\"></span><span class=\"_82HNRypW\" style=\"font-size:14px\">1<!-- -->건의 리뷰</span></div></span></a><div class=\"_2jOg7aGD\">165위(서울에 있는 535곳 쇼핑 중)</div><div><div class=\"_3Qb-FY2O\"><div class=\"_3XWoDb5N\"></div><div class=\"_3VQ9cJNZ\"></div></div><a class=\"_2OD1jgdZ\" href=\"/Attraction_Review-g294197-d14445951-Reviews-Macheon_Market-Seoul.html\" target=\"_blank\">더 알아보기</a></div></div>,\n",
       " <div class=\"_6sUF3jUd\"><a class=\"_1QKQOve4\" href=\"/Attraction_Review-g294197-d15592744-Reviews-Cheongdam_Samik_Market-Seoul.html\" target=\"_blank\"><h2>청담삼익시장</h2></a><a href=\"/Attraction_Review-g294197-d15592744-Reviews-Cheongdam_Samik_Market-Seoul.html#REVIEWS\" target=\"_blank\"><span class=\"_3sNfOSUO\"><div class=\"tl4jgn9w _274P7u9u\" style=\"font-size:14px;line-height:1.29\"><span class=\"_1jcHBWVU _1-HtLqs3 uq1qMUbD\"></span><span class=\"_82HNRypW\" style=\"font-size:14px\">2<!-- -->건의 리뷰</span></div></span></a><div class=\"_2jOg7aGD\">170위(서울에 있는 535곳 쇼핑 중)</div><div><div class=\"_3Qb-FY2O\"><div class=\"_3XWoDb5N\"></div><div class=\"_3VQ9cJNZ\"></div></div><a class=\"_2OD1jgdZ\" href=\"/Attraction_Review-g294197-d15592744-Reviews-Cheongdam_Samik_Market-Seoul.html\" target=\"_blank\">더 알아보기</a></div></div>,\n",
       " <div class=\"_6sUF3jUd\"><a class=\"_1QKQOve4\" href=\"/Attraction_Review-g294197-d10686434-Reviews-Guro_Market-Seoul.html\" target=\"_blank\"><h2>구로시장</h2></a><a href=\"/Attraction_Review-g294197-d10686434-Reviews-Guro_Market-Seoul.html#REVIEWS\" target=\"_blank\"><span class=\"_3sNfOSUO\"><div class=\"tl4jgn9w _274P7u9u\" style=\"font-size:14px;line-height:1.29\"><span class=\"_1jcHBWVU _1-HtLqs3 uq1qMUbD\"></span><span class=\"_82HNRypW\" style=\"font-size:14px\">2<!-- -->건의 리뷰</span></div></span></a><div class=\"_2jOg7aGD\">187위(서울에 있는 535곳 쇼핑 중)</div><div><div class=\"_3Qb-FY2O\"><div class=\"_3XWoDb5N\"></div><div class=\"_3VQ9cJNZ\"></div></div><a class=\"_2OD1jgdZ\" href=\"/Attraction_Review-g294197-d10686434-Reviews-Guro_Market-Seoul.html\" target=\"_blank\">더 알아보기</a></div></div>,\n",
       " <div class=\"_6sUF3jUd\"><a class=\"_1QKQOve4\" href=\"/Attraction_Review-g294197-d7892016-Reviews-Ttukseom_Flea_Market-Seoul.html\" target=\"_blank\"><h2>뚝섬 아름다운 나눔장터</h2></a><a href=\"/Attraction_Review-g294197-d7892016-Reviews-Ttukseom_Flea_Market-Seoul.html#REVIEWS\" target=\"_blank\"><span class=\"_3sNfOSUO\"><div class=\"tl4jgn9w _274P7u9u\" style=\"font-size:14px;line-height:1.29\"><span class=\"_1jcHBWVU _2n4wJlqY uq1qMUbD\"></span><span class=\"_82HNRypW\" style=\"font-size:14px\">6<!-- -->건의 리뷰</span></div></span></a><div class=\"_2jOg7aGD\">194위(서울에 있는 535곳 쇼핑 중)</div><div><div class=\"_3Qb-FY2O\"><div class=\"_3XWoDb5N\"></div><div class=\"_3VQ9cJNZ\"></div></div><a class=\"_2OD1jgdZ\" href=\"/Attraction_Review-g294197-d7892016-Reviews-Ttukseom_Flea_Market-Seoul.html\" target=\"_blank\">더 알아보기</a></div></div>]"
      ]
     },
     "execution_count": 28,
     "metadata": {},
     "output_type": "execute_result"
    }
   ],
   "source": [
    "lists"
   ]
  },
  {
   "cell_type": "code",
   "execution_count": 34,
   "metadata": {},
   "outputs": [
    {
     "data": {
      "text/plain": [
       "[]"
      ]
     },
     "execution_count": 34,
     "metadata": {},
     "output_type": "execute_result"
    }
   ],
   "source": [
    "lists = soup.findAll('div', {'class' : '_2Hb-Mt7l'}) \n",
    "lists"
   ]
  },
  {
   "cell_type": "code",
   "execution_count": null,
   "metadata": {},
   "outputs": [],
   "source": []
  }
 ],
 "metadata": {
  "kernelspec": {
   "display_name": "Python 3",
   "language": "python",
   "name": "python3"
  },
  "language_info": {
   "codemirror_mode": {
    "name": "ipython",
    "version": 3
   },
   "file_extension": ".py",
   "mimetype": "text/x-python",
   "name": "python",
   "nbconvert_exporter": "python",
   "pygments_lexer": "ipython3",
   "version": "3.7.6"
  },
  "toc": {
   "base_numbering": 1,
   "nav_menu": {
    "height": "12px",
    "width": "164px"
   },
   "number_sections": false,
   "sideBar": true,
   "skip_h1_title": false,
   "title_cell": "Table of Contents",
   "title_sidebar": "Contents",
   "toc_cell": false,
   "toc_position": {},
   "toc_section_display": true,
   "toc_window_display": false
  }
 },
 "nbformat": 4,
 "nbformat_minor": 4
}
